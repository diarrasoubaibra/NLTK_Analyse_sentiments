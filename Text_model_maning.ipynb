{
 "cells": [
  {
   "cell_type": "code",
   "execution_count": 40,
   "id": "a327cf53",
   "metadata": {},
   "outputs": [],
   "source": [
    "import nltk, re, string\n",
    "from nltk.tokenize import word_tokenize, sent_tokenize, regexp_tokenize\n",
    "from nltk.corpus import stopwords\n",
    "from nltk.stem import SnowballStemmer, WordNetLemmatizer\n",
    "from unidecode import unidecode\n",
    "from nltk.sentiment import SentimentIntensityAnalyzer"
   ]
  },
  {
   "cell_type": "code",
   "execution_count": 41,
   "id": "5cc1841b",
   "metadata": {},
   "outputs": [],
   "source": [
    "# Spécifier le chemin du fichier PDF à partir duquel on va extraire le texte.\n",
    "txt_path = r'C:\\Users\\smplon\\Desktop\\mandat.txt'\n",
    "\n",
    "# Ouvrir le fichier texte en mode lecture avec 'with open'\n",
    "with open(txt_path, 'r', encoding='utf-8') as txt_file:\n",
    "    # Lire le contenu du fichier texte\n",
    "    texte = txt_file.read()"
   ]
  },
  {
   "cell_type": "code",
   "execution_count": 42,
   "id": "93fa94a4",
   "metadata": {},
   "outputs": [
    {
     "data": {
      "text/plain": [
       "\"\\ufeffAvis : Contre\\nJustification : Bien qu’il ait accompli beaucoup durant ses 3 précédents mandats, je pense qu’il est temps que le président Ouattara laisse la place à la nouveauté. De plus, son alliance avec la France qui au début semblait l'avantage face à ses concurrents (Gbagbo notamment) présente aujourd’hui un défaut voire une faiblesse. En effet, la Côte d’Ivoire n’échappe pas au vent de coup d’état qui semble souffler dans toute l’Afrique francophone. La jeunesse (ivoirienne dans ce cas) en a assez de se sentir paterner par la puissance française. Nous avons pris notre indépendance il y a plus de 60 ans, il est temps de l’assumer désormais.\\n\\nAvis : Contre\\nJustification : Je suis fière de l'évolution de mon pays la côte d’ivoire, fière du leadership de mon président mais pour moi notre notre pays gagnerait à avoir la jeunesse au commande. Cette jeunesse dirigeante pourrait alors se tourner vers nos anciens présidents et avoir plus d'expérience. \\n\\nAvis : Contre \\nJustification : Je suis contre le quatrième mandat du Président Ouattara du simple fait qu'il exerce dans l'illégalité, son 3eme mandat est inconstitutionnelle, il en est de même pour le 4eme. Se battre quand on est opposant pour une cause et refaire les mêmes erreurs pour lesquelles on s'est battu est décevant. Le progrès oui, mais pas au détriment de la liberté du peuple. \\n\\nAvis : Contre \\nJustification : bien que je sois RHDP je constate qu’il est temps de laisser la place à la nouvelle génération.\\n\\nAvis : Pour\\nJustification : Je pense qu’il devrait rester pour terminer ce qu’il a commencé parce que la question qui se pose, est de savoir si la personne qui viendra après terminera les chantiers inachevé, ne serait-il pas préoccupé par le fait de s’enrichir en premier lieu?\\n\\nAvis :  Pour\\nJustification : je suis plus que convaincu que du développement du pays et en plus de cela j’apprecis la mentalité du Président actuel bien qu’un 4eme mandat fera l’objet de polémique.  \\n\\n Avis :  Pour\\nJustification : Pour moi, je ne sais pas qui pourra assurer la relève du président actuel en matière de développement. Depuis plusieurs années la Côte d’Ivoire était sans développement il a su donner un nouveau visage à la Côte d’Ivoire. Je ne vois pas de représentants qui puissent mener la Côte d’Ivoire à ce niveau de développement.\\n\\nAvis : Contre\\nJustification : je n’ai absolument rien contre le parti mais je ne suis pas du tout pour un quatrième mandat. Nous sommes en démocratie et faire autant de mandat montre qu’il n’y a pas d’autres compétences ou personnes capables d’assurer le rôle de Président de la république ni dans son parti politique ni dans d’autres partis. Le pouvoir n’est pas éternel et donc ne doit pas être monotone. C’est mon humble avis sur la présidence de ce beau pays qu’est la Côte d’Ivoire. Vive la Côte d’Ivoire, Vivre la république, Vivre le vivre en paix c’est vivre heureux! Merci!!!\\n\\nAvis :  Contre\\nJustification : Contre le quatrième mandat du simple fait qu'il exerce dans l'illégalité.\\n\\nAvis :  Contre\\nJustification : Mandat anti-constitutionnel, cherté de la vie, plus de possibilité de revendiquer sinon tu es considéré comme pro opposant donc prison. On accorde plus d’importance à la construction des ponts qu’à l’éducation. Aucune politique pour adapter le cursus scolaire au au défis du monde du travail, aucune politique pour valoriser nos matière premières qui de plus aujourd’hui sont achetées à des prix dérisoires contrairement à d’autres pays comme le Ghana. Des ministres qui occupent une multitude de postes à la fois. \\n\\nAvis :  Contre\\nJustification : Je suis contre le 4eme mandat car il est tout d’abord dans l'inégalité et ne respecte pas les règles de la constitution établie et aussi tout devient cher et il ne fait rien pour changer la situation en d’autre terme le pays va mal.\\n\\nAvis :  Contre\\nJustification : Je suis contre un quatrième mandat présidentiel tout simplement parce que la constitution ne l'autorise pas  et accepter un autre mandat anticonstitutionnel sous prétexte qu'il travaille bien est une injure pour l'ensemble de la population en général et en particulier pour l'élite.\\n\\nAvis :  Contre\\nJustification : Je suis contre un quatrième mandat parce que le président lui-même ne respecte pas les propres règles qu’il a établi concernant le nombre de mandat . Dans cette atmosphère , nous avons l’impression d'être face à une dictature où le leader met tout en œuvre pour s’emparer du pouvoir .Je ne suis pas contre le fait qu’il a apporté beaucoup à cette nation,néanmoins il faudrait qu’il cède sa place à une autre personne.\\n\\nAvis :  Contre\\nJustification : Un 3eme mandat pour un président est largement suffisant, il faudrait qu’il laisse la place à une nouvelle personne pour le développement du pays.\\n\\nAvis :  Contre\\nJustification : Parce que bien qu’il est accompli de belles choses dans le pays, je pense qu’il est temps pour lui de laisser la place aux autres. Le pouvoir n’est pas un royaume éternel, trop de manigances, trop de problèmes. les routes c’est bien mais ce n’est pas ce que nous mangeons tout est devenu cher et les salaires ne peuvent même plus subvenir au besoins d’une famille de 3 personnes.\\n\\nAvis :  Contre\\nJustification : Je suis contre le 4ème mandat du président car c'est un mandat anti-constitutionnel.\""
      ]
     },
     "execution_count": 42,
     "metadata": {},
     "output_type": "execute_result"
    }
   ],
   "source": [
    "texte"
   ]
  },
  {
   "cell_type": "code",
   "execution_count": 43,
   "id": "edca6304",
   "metadata": {},
   "outputs": [
    {
     "name": "stdout",
     "output_type": "stream",
     "text": [
      "Contre\n",
      "Justification : Bien qu’il ait accompli beaucoup durant ses 3 précédents mandats, je pense qu’il est temps que le président Ouattara laisse la place à la nouveauté. De plus, son alliance avec la France qui au début semblait l'avantage face à ses concurrents (Gbagbo notamment) présente aujourd’hui un défaut voire une faiblesse. En effet, la Côte d’Ivoire n’échappe pas au vent de coup d’état qui semble souffler dans toute l’Afrique francophone. La jeunesse (ivoirienne dans ce cas) en a assez de se sentir paterner par la puissance française. Nous avons pris notre indépendance il y a plus de 60 ans, il est temps de l’assumer désormais.\n",
      "Contre\n",
      "Justification : Je suis fière de l'évolution de mon pays la côte d’ivoire, fière du leadership de mon président mais pour moi notre notre pays gagnerait à avoir la jeunesse au commande. Cette jeunesse dirigeante pourrait alors se tourner vers nos anciens présidents et avoir plus d'expérience.\n",
      "Contre \n",
      "Justification : Je suis contre le quatrième mandat du Président Ouattara du simple fait qu'il exerce dans l'illégalité, son 3eme mandat est inconstitutionnelle, il en est de même pour le 4eme. Se battre quand on est opposant pour une cause et refaire les mêmes erreurs pour lesquelles on s'est battu est décevant. Le progrès oui, mais pas au détriment de la liberté du peuple.\n",
      "Contre \n",
      "Justification : bien que je sois RHDP je constate qu’il est temps de laisser la place à la nouvelle génération.\n",
      "Pour\n",
      "Justification : Je pense qu’il devrait rester pour terminer ce qu’il a commencé parce que la question qui se pose, est de savoir si la personne qui viendra après terminera les chantiers inachevé, ne serait-il pas préoccupé par le fait de s’enrichir en premier lieu?\n",
      "Pour\n",
      "Justification : je suis plus que convaincu que du développement du pays et en plus de cela j’apprecis la mentalité du Président actuel bien qu’un 4eme mandat fera l’objet de polémique.\n",
      "Pour\n",
      "Justification : Pour moi, je ne sais pas qui pourra assurer la relève du président actuel en matière de développement. Depuis plusieurs années la Côte d’Ivoire était sans développement il a su donner un nouveau visage à la Côte d’Ivoire. Je ne vois pas de représentants qui puissent mener la Côte d’Ivoire à ce niveau de développement.\n",
      "Contre\n",
      "Justification : je n’ai absolument rien contre le parti mais je ne suis pas du tout pour un quatrième mandat. Nous sommes en démocratie et faire autant de mandat montre qu’il n’y a pas d’autres compétences ou personnes capables d’assurer le rôle de Président de la république ni dans son parti politique ni dans d’autres partis. Le pouvoir n’est pas éternel et donc ne doit pas être monotone. C’est mon humble avis sur la présidence de ce beau pays qu’est la Côte d’Ivoire. Vive la Côte d’Ivoire, Vivre la république, Vivre le vivre en paix c’est vivre heureux! Merci!!!\n",
      "Contre\n",
      "Justification : Contre le quatrième mandat du simple fait qu'il exerce dans l'illégalité.\n",
      "Contre\n",
      "Justification : Mandat anti-constitutionnel, cherté de la vie, plus de possibilité de revendiquer sinon tu es considéré comme pro opposant donc prison. On accorde plus d’importance à la construction des ponts qu’à l’éducation. Aucune politique pour adapter le cursus scolaire au au défis du monde du travail, aucune politique pour valoriser nos matière premières qui de plus aujourd’hui sont achetées à des prix dérisoires contrairement à d’autres pays comme le Ghana. Des ministres qui occupent une multitude de postes à la fois.\n",
      "Contre\n",
      "Justification : Je suis contre le 4eme mandat car il est tout d’abord dans l'inégalité et ne respecte pas les règles de la constitution établie et aussi tout devient cher et il ne fait rien pour changer la situation en d’autre terme le pays va mal.\n",
      "Contre\n",
      "Justification : Je suis contre un quatrième mandat présidentiel tout simplement parce que la constitution ne l'autorise pas  et accepter un autre mandat anticonstitutionnel sous prétexte qu'il travaille bien est une injure pour l'ensemble de la population en général et en particulier pour l'élite.\n",
      "Contre\n",
      "Justification : Je suis contre un quatrième mandat parce que le président lui-même ne respecte pas les propres règles qu’il a établi concernant le nombre de mandat . Dans cette atmosphère , nous avons l’impression d'être face à une dictature où le leader met tout en œuvre pour s’emparer du pouvoir .Je ne suis pas contre le fait qu’il a apporté beaucoup à cette nation,néanmoins il faudrait qu’il cède sa place à une autre personne.\n",
      "Contre\n",
      "Justification : Un 3eme mandat pour un président est largement suffisant, il faudrait qu’il laisse la place à une nouvelle personne pour le développement du pays.\n",
      "Contre\n",
      "Justification : Parce que bien qu’il est accompli de belles choses dans le pays, je pense qu’il est temps pour lui de laisser la place aux autres. Le pouvoir n’est pas un royaume éternel, trop de manigances, trop de problèmes. les routes c’est bien mais ce n’est pas ce que nous mangeons tout est devenu cher et les salaires ne peuvent même plus subvenir au besoins d’une famille de 3 personnes.\n",
      "Contre\n",
      "Justification : Je suis contre le 4ème mandat du président car c'est un mandat anti-constitutionnel.\n"
     ]
    }
   ],
   "source": [
    "# Utilisation d'une expression régulière pour extraire les avis\n",
    "avis_pattern = r\"Avis : ([\\s\\S]*?)(?=(?:Avis :|$))\"\n",
    "\n",
    "avis_extraits = re.findall(avis_pattern, texte)\n",
    "\n",
    "# Supprimer les espaces vides et les sauts de ligne en début et en fin de chaque avis\n",
    "avis_propres = [avis.strip() for avis in avis_extraits]\n",
    "\n",
    "# # Affichez les avis extraits\n",
    "for i, avis in enumerate(avis_propres, 1):\n",
    "    print(avis)"
   ]
  },
  {
   "cell_type": "code",
   "execution_count": 49,
   "id": "1adb15a6",
   "metadata": {},
   "outputs": [
    {
     "data": {
      "text/plain": [
       "[\"contre justification bien ' accompli beaucoup durant  precedent mandats pense ' temp president ouattara laisse place  nouveaute plus alliance france debut semblait lavantage face  concurrents gbagbo notamment presente aujourd'hui defaut voire faiblesse effet cote 'ivoire 'echappe vent coup 'etat semble souffler toute 'afrique francophone jeunesse ivoirienne   assez sentir paterner puissance francaise pris independance  plus   temp 'assumer desormais\",\n",
       " \"contre justification fiere levolution pay cote 'ivoire fiere leadership president pay gagnerait  avoir jeunesse commande cette jeunesse dirigeante pourrait alors tourner vers anciens president avoir plus dexperience\",\n",
       " 'contre justification contre quatrieme mandat president ouattara simple fait quil exerce lillegalite 3eme mandat inconstitutionnelle meme 4eme battre quand opposant cause refaire meme erreurs lesquelles sest battu decevant progres oui detriment liberte peuple',\n",
       " \"contre justification bien rhdp constate ' temp laisser place  nouvelle generation\",\n",
       " \"justification pense ' devrait rester terminer '  commence parce question pose savoir  personne viendra apres terminera chantiers inacheve seraitil preoccupe fait 'enrichir premier lieu\",\n",
       " \"justification plus convaincu developpement pay plus cela 'apprecis mentalite president actuel bien ' 4eme mandat fera 'objet polemique\",\n",
       " \"justification sais pourra assurer releve president actuel matiere developpement depuis plusieurs annees cote 'ivoire etait sans developpement   donner nouveau visage  cote 'ivoire vois representants puissent mener cote 'ivoire  niveau developpement\",\n",
       " \"contre justification ' absolument rien contre parti tout quatrieme mandat democratie faire autant mandat montre '  'autres competence personnes capables 'assurer role president republique  parti politique  'autres partis pouvoir 'est eternel donc doit etre monotone 'est humble avis presidence beau pay 'est cote 'ivoire vive cote 'ivoire vivre republique vivre vivre paix 'est vivre heureux merci\",\n",
       " 'contre justification contre quatrieme mandat simple fait quil exerce lillegalite',\n",
       " \"contre justification mandat anticonstitutionnel cherte vie plus possibilite revendiquer sinon considere comme pro opposant donc prison accorde plus 'importance  construction ponts  'education aucune politique adapter cursus scolaire defis monde travail aucune politique valoriser matiere premiere plus aujourd'hui achetees  prix derisoires contrairement  'autres pay comme ghana ministres occupent multitude postes  fois\",\n",
       " \"contre justification contre 4eme mandat car tout 'abord linegalite respecte regles constitution etablie aussi tout devient cher fait rien changer situation 'autre terme pay  mal\",\n",
       " 'contre justification contre quatrieme mandat presidentiel tout simplement parce constitution lautorise accepter autre mandat anticonstitutionnel sou pretexte quil travaille bien injure lensemble population general particulier lelite',\n",
       " \"contre justification contre quatrieme mandat parce president luimeme respecte propres regles '  etabli concernant nombre mandat cette atmosphere 'impression detre face  dictature leader met tout oeuvre 'emparer pouvoir contre fait '  apporte beaucoup  cette nationneanmoins faudrait ' cede place  autre personne\",\n",
       " \"contre justification 3eme mandat president largement suffisant faudrait ' laisse place  nouvelle personne developpement pay\",\n",
       " \"contre justification parce bien ' accompli belle choses pay pense ' temp laisser place autres pouvoir 'est royaume eternel trop manigances trop problemes route 'est bien 'est mangeons tout devenu cher salaires peuvent meme plus subvenir besoins 'une famille  personnes\",\n",
       " 'contre justification contre 4eme mandat president car cest mandat anticonstitutionnel']"
      ]
     },
     "execution_count": 49,
     "metadata": {},
     "output_type": "execute_result"
    }
   ],
   "source": [
    "# Mettez le texte nettoyé en minuscules\n",
    "avis_propres = [avis.lower() for avis in avis_propres]\n",
    "\n",
    "# Supprimez la ponctuation, les accents et effectuez la lemmatisation\n",
    "avis_propres_traite = []\n",
    "\n",
    "for avis in avis_propres:\n",
    "\n",
    "    # Supprimer la ponctuation et les caractères spéciaux\n",
    "    avis = re.sub(f\"[{string.punctuation}]\", \"\", avis)\n",
    "    \n",
    "    # Supprimer les accents\n",
    "    avis = unidecode(avis)\n",
    "    \n",
    "    # Tokenization en mots\n",
    "    mots = nltk.word_tokenize(avis)\n",
    "    \n",
    "    # Supprimer les mots vides (stop words)\n",
    "    mots = [mot for mot in mots if mot not in stopwords.words('french')]\n",
    "    \n",
    "    # Effectuer la lemmatisation\n",
    "    avis_traite = \" \".join([word.lemmatize() for word in TextBlob(\" \".join(mots)).words])\n",
    "    \n",
    "    # Supprimer les lettres non prises en charge par la lemmatisation\n",
    "    avis_traite = re.sub(r'\\b\\w{1,2}\\b', '', avis_traite)\n",
    "    \n",
    "    avis_propres_traite.append(avis_traite)\n",
    "\n",
    "# La liste avis_propres_traite contient maintenant les avis traités avec la lemmatisation\n",
    "avis_propres_traite"
   ]
  },
  {
   "cell_type": "code",
   "execution_count": 53,
   "id": "57124967",
   "metadata": {},
   "outputs": [
    {
     "name": "stdout",
     "output_type": "stream",
     "text": [
      "Avis 1: négatif\n",
      "Avis 2: négatif\n",
      "Avis 3: négatif\n",
      "Avis 4: négatif\n",
      "Avis 5: positif\n",
      "Avis 6: neutre\n",
      "Avis 7: positif\n",
      "Avis 8: négatif\n",
      "Avis 9: négatif\n",
      "Avis 10: négatif\n",
      "Avis 11: négatif\n",
      "Avis 12: négatif\n",
      "Avis 13: positif\n",
      "Avis 14: négatif\n",
      "Avis 15: négatif\n",
      "Avis 16: négatif\n"
     ]
    }
   ],
   "source": [
    "# Analyse de sentiment à l'aide de NLTK\n",
    "from nltk.sentiment.vader import SentimentIntensityAnalyzer\n",
    "\n",
    "# Initialisation de l'analyseur de sentiment NLTK\n",
    "sia = SentimentIntensityAnalyzer()\n",
    "\n",
    "# Liste pour stocker les résultats de l'analyse de sentiment de chaque avis\n",
    "resultats_sentiment_nltk = []\n",
    "\n",
    "# Analyse de sentiment pour chaque avis\n",
    "for avis in avis_propres_traite:\n",
    "    sentiment = sia.polarity_scores(avis)\n",
    "    resultats_sentiment_nltk.append(sentiment)\n",
    "\n",
    "# Mots-clés associés aux avis positifs\n",
    "mots_cles_positifs = [\"positif\", \"soutien\", \"favorable\", \"content\", \"satisfait\", \"terminer\", \"rester\"]\n",
    "\n",
    "# Mots-clés associés aux avis négatifs\n",
    "mots_cles_negatifs = [\"dictature\", \"respecte\", \"contre\", \"désaccord\", \"problème\", \"opposition\", \"déception\", \"insatisfait\", \"temp\", \"laisse\", \"nouvelle\", \"su\" ]\n",
    "\n",
    "# Liste pour stocker les polarités des avis basées sur les mots-clés\n",
    "polarites_avis_mots_cles = []\n",
    "\n",
    "# Analyse de chaque avis basée sur les mots-clés\n",
    "for avis in avis_propres_traite:\n",
    "    avis = avis.lower()  # Convertir en minuscules pour la correspondance insensible à la casse\n",
    "    \n",
    "    # Compter le nombre de mots-clés positifs et négatifs\n",
    "    count_positifs = sum(1 for mot in mots_cles_positifs if mot in avis)\n",
    "    count_negatifs = sum(1 for mot in mots_cles_negatifs if mot in avis)\n",
    "    \n",
    "    # Attribuer une polarité basée sur les mots-clés\n",
    "    if count_positifs > count_negatifs:\n",
    "        polarite = \"positif\"\n",
    "    elif count_negatifs > count_positifs:\n",
    "        polarite = \"négatif\"\n",
    "    else:\n",
    "        polarite = \"neutre\"\n",
    "    \n",
    "    polarites_avis_mots_cles.append(polarite)\n",
    "\n",
    "# Combiner les polarités basées sur le sentiment et les mots-clés\n",
    "polarites_avis_combinees = []\n",
    "\n",
    "for i in range(len(resultats_sentiment_nltk)):\n",
    "    polarite_sentiment = resultats_sentiment_nltk[i]\n",
    "    polarite_mots_cles = polarites_avis_mots_cles[i]\n",
    "    \n",
    "    # Logique de combinaison des polarités (à personnaliser)\n",
    "    if polarite_sentiment['compound'] >= 0.05:\n",
    "        polarite_combinee = \"positif\"\n",
    "    else:\n",
    "        polarite_combinee = polarite_mots_cles\n",
    "    \n",
    "    polarites_avis_combinees.append(polarite_combinee)\n",
    "\n",
    "# Afficher les polarités attribuées aux avis\n",
    "for i, polarite in enumerate(polarites_avis_combinees, 1):\n",
    "    print(f\"Avis {i}: {polarite}\")\n"
   ]
  },
  {
   "cell_type": "code",
   "execution_count": 51,
   "id": "475e0e67",
   "metadata": {},
   "outputs": [
    {
     "name": "stdout",
     "output_type": "stream",
     "text": [
      "Nombre d'avis positifs : 3\n",
      "Nombre d'avis négatifs : 12\n",
      "Nombre d'avis neutres : 1\n"
     ]
    }
   ],
   "source": [
    "# Compteur pour chaque polarité\n",
    "compteur_polarites = {\n",
    "    \"positif\": 0,\n",
    "    \"négatif\": 0,\n",
    "    \"neutre\": 0\n",
    "}\n",
    "\n",
    "# Parcourir les polarités attribuées aux avis et les compter\n",
    "for polarite in polarites_avis_combinees:\n",
    "    if polarite == \"positif\":\n",
    "        compteur_polarites[\"positif\"] += 1\n",
    "    elif polarite == \"négatif\":\n",
    "        compteur_polarites[\"négatif\"] += 1\n",
    "    elif polarite == \"neutre\":\n",
    "        compteur_polarites[\"neutre\"] += 1\n",
    "\n",
    "# Afficher le nombre total de chaque polarité\n",
    "print(\"Nombre d'avis positifs :\", compteur_polarites[\"positif\"])\n",
    "print(\"Nombre d'avis négatifs :\", compteur_polarites[\"négatif\"])\n",
    "print(\"Nombre d'avis neutres :\", compteur_polarites[\"neutre\"])\n"
   ]
  }
 ],
 "metadata": {
  "kernelspec": {
   "display_name": "Python 3 (ipykernel)",
   "language": "python",
   "name": "python3"
  },
  "language_info": {
   "codemirror_mode": {
    "name": "ipython",
    "version": 3
   },
   "file_extension": ".py",
   "mimetype": "text/x-python",
   "name": "python",
   "nbconvert_exporter": "python",
   "pygments_lexer": "ipython3",
   "version": "3.11.5"
  }
 },
 "nbformat": 4,
 "nbformat_minor": 5
}
